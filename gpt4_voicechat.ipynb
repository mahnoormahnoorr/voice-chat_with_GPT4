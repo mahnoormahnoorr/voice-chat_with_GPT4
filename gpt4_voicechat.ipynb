{
 "cells": [
  {
   "cell_type": "code",
   "execution_count": 8,
   "id": "90c24515-0084-47d1-9518-30f92582d235",
   "metadata": {},
   "outputs": [],
   "source": [
    "import gradio as gr\n",
    "import openai\n",
    "from langchain.chat_models import ChatOpenAI\n",
    "from langchain.memory import ConversationBufferMemory\n",
    "from langchain.chains import ConversationChain\n",
    "from dotenv import load_dotenv\n",
    "import os"
   ]
  },
  {
   "cell_type": "code",
   "execution_count": 9,
   "id": "58868a02-afb1-4d34-b7af-a34dcac88182",
   "metadata": {},
   "outputs": [],
   "source": [
    "# Load your OpenAI API key\n",
    "load_dotenv()\n",
    "openai.api_key = os.getenv(\"OPENAI_API_KEY\")"
   ]
  },
  {
   "cell_type": "code",
   "execution_count": 10,
   "id": "9ffabdde-ad72-401f-b832-9a3dce65fe14",
   "metadata": {},
   "outputs": [],
   "source": [
    "# Set up GPT-4 with memory\n",
    "llm = ChatOpenAI(\n",
    "    model_name=\"gpt-4\",\n",
    "    temperature=0.7,\n",
    "    openai_api_key=\"...\"  # ← Paste your OpenAI API key here\n",
    ")\n",
    "memory = ConversationBufferMemory()\n",
    "chat = ConversationChain(llm=llm, memory=memory)\n"
   ]
  },
  {
   "cell_type": "code",
   "execution_count": 11,
   "id": "14ebb8a5-2230-4e36-bce4-ef5361bc5c83",
   "metadata": {},
   "outputs": [
    {
     "name": "stdout",
     "output_type": "stream",
     "text": [
      "* Running on local URL:  http://127.0.0.1:7863\n",
      "* Running on public URL: https://dec81b9661f56bcefa.gradio.live\n",
      "\n",
      "This share link expires in 1 week. For free permanent hosting and GPU upgrades, run `gradio deploy` from the terminal in the working directory to deploy to Hugging Face Spaces (https://huggingface.co/spaces)\n"
     ]
    },
    {
     "data": {
      "text/html": [
       "<div><iframe src=\"https://dec81b9661f56bcefa.gradio.live\" width=\"100%\" height=\"500\" allow=\"autoplay; camera; microphone; clipboard-read; clipboard-write;\" frameborder=\"0\" allowfullscreen></iframe></div>"
      ],
      "text/plain": [
       "<IPython.core.display.HTML object>"
      ]
     },
     "metadata": {},
     "output_type": "display_data"
    },
    {
     "data": {
      "text/plain": []
     },
     "execution_count": 11,
     "metadata": {},
     "output_type": "execute_result"
    }
   ],
   "source": [
    "def respond(audio):\n",
    "    if audio is None:\n",
    "        return \"Please say something.\"\n",
    "    \n",
    "    import speech_recognition as sr\n",
    "    recognizer = sr.Recognizer()\n",
    "    with sr.AudioFile(audio) as source:\n",
    "        audio_data = recognizer.record(source)\n",
    "    try:\n",
    "        query = recognizer.recognize_google(audio_data)\n",
    "    except:\n",
    "        return \"Sorry, I couldn't understand that.\"\n",
    "\n",
    "    response = chat.run(query)\n",
    "    return response\n",
    "\n",
    "gr.Interface(\n",
    "    fn=respond,\n",
    "    inputs=gr.Audio(sources=[\"microphone\"], type=\"filepath\", label=\"Speak Now\"),\n",
    "    outputs=\"text\",\n",
    "    live=True,\n",
    "    title=\"🎤 Voice Chatbot with GPT-4\",\n",
    "    description=\"Speak into your mic. The chatbot will respond.\"\n",
    ").launch(share=True)"
   ]
  },
  {
   "cell_type": "code",
   "execution_count": null,
   "id": "b74172c7-6601-4a04-91a9-b87d225dacc8",
   "metadata": {},
   "outputs": [],
   "source": []
  }
 ],
 "metadata": {
  "kernelspec": {
   "display_name": "Python 3 (ipykernel)",
   "language": "python",
   "name": "python3"
  },
  "language_info": {
   "codemirror_mode": {
    "name": "ipython",
    "version": 3
   },
   "file_extension": ".py",
   "mimetype": "text/x-python",
   "name": "python",
   "nbconvert_exporter": "python",
   "pygments_lexer": "ipython3",
   "version": "3.11.0rc1"
  }
 },
 "nbformat": 4,
 "nbformat_minor": 5
}
